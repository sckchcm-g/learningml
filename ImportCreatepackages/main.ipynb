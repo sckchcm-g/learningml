{
 "cells": [
  {
   "cell_type": "code",
   "execution_count": 1,
   "id": "e38f0986",
   "metadata": {},
   "outputs": [
    {
     "name": "stdout",
     "output_type": "stream",
     "text": [
      "3\n"
     ]
    }
   ],
   "source": [
    "from package.maths import adder\n",
    "print(adder(1, 2))"
   ]
  },
  {
   "cell_type": "code",
   "execution_count": 9,
   "id": "2da5bd85",
   "metadata": {},
   "outputs": [
    {
     "name": "stdout",
     "output_type": "stream",
     "text": [
      "5\n"
     ]
    }
   ],
   "source": [
    "import random\n",
    "print(random.randint(1,5))"
   ]
  },
  {
   "cell_type": "markdown",
   "id": "9b29243e",
   "metadata": {},
   "source": [
    "## Os Library"
   ]
  },
  {
   "cell_type": "code",
   "execution_count": 3,
   "id": "956da712",
   "metadata": {},
   "outputs": [
    {
     "name": "stdout",
     "output_type": "stream",
     "text": [
      "d:\\learning\\code\\app\n"
     ]
    }
   ],
   "source": [
    "import os\n",
    "print(os.getcwd())"
   ]
  },
  {
   "cell_type": "code",
   "execution_count": 4,
   "id": "937a7abc",
   "metadata": {},
   "outputs": [],
   "source": [
    "os.mkdir('test_dir')"
   ]
  },
  {
   "cell_type": "code",
   "execution_count": 5,
   "id": "d15faba4",
   "metadata": {},
   "outputs": [
    {
     "data": {
      "text/plain": [
       "'test_dir/destination.txt'"
      ]
     },
     "execution_count": 5,
     "metadata": {},
     "output_type": "execute_result"
    }
   ],
   "source": [
    "import shutil\n",
    "shutil.copyfile('source.txt', 'test_dir/destination.txt')"
   ]
  },
  {
   "cell_type": "markdown",
   "id": "9b5dc386",
   "metadata": {},
   "source": [
    "## Data Serialization"
   ]
  },
  {
   "cell_type": "code",
   "execution_count": 9,
   "id": "f2c6e5fb",
   "metadata": {},
   "outputs": [
    {
     "name": "stdout",
     "output_type": "stream",
     "text": [
      "{\"name\": \"John\", \"age\": 30} <class 'str'>\n",
      "{'name': 'John', 'age': 30} <class 'dict'>\n"
     ]
    }
   ],
   "source": [
    "import json\n",
    "data = {\n",
    "    'name' : 'John',\n",
    "    'age' : 30,\n",
    "}\n",
    "json_string = json.dumps(data)\n",
    "print(json_string, type(json_string))\n",
    "\n",
    "parsed_data = json.loads(json_string)\n",
    "print(parsed_data, type(parsed_data))"
   ]
  },
  {
   "cell_type": "code",
   "execution_count": 10,
   "id": "a3183728",
   "metadata": {},
   "outputs": [
    {
     "name": "stdout",
     "output_type": "stream",
     "text": [
      "['name', 'age']\n",
      "['John', '30']\n"
     ]
    }
   ],
   "source": [
    "## csv\n",
    "import csv\n",
    "\n",
    "with open('example.csv', 'w', newline='') as file:\n",
    "    writer = csv.writer(file)\n",
    "    writer.writerow(['name', 'age'])\n",
    "    writer.writerow(['John', 30])\n",
    "\n",
    "with open('example.csv', 'r') as file:\n",
    "    reader = csv.reader(file)\n",
    "    for row in reader:\n",
    "        print(row)"
   ]
  },
  {
   "cell_type": "code",
   "execution_count": 12,
   "id": "17cdea0f",
   "metadata": {},
   "outputs": [
    {
     "name": "stdout",
     "output_type": "stream",
     "text": [
      "2025-05-22 18:40:31.566762\n"
     ]
    }
   ],
   "source": [
    "## date time\n",
    "from datetime import datetime, timedelta\n",
    "now = datetime.now()\n",
    "yesterday = now - timedelta(days=1)\n",
    "print(yesterday)"
   ]
  },
  {
   "cell_type": "code",
   "execution_count": 14,
   "id": "16f73bf9",
   "metadata": {},
   "outputs": [
    {
     "name": "stdout",
     "output_type": "stream",
     "text": [
      "1748005902.7619293\n",
      "1748005903.763224\n"
     ]
    }
   ],
   "source": [
    "## time\n",
    "import time\n",
    "print(time.time())\n",
    "time.sleep(1)\n",
    "print(time.time())"
   ]
  },
  {
   "cell_type": "markdown",
   "id": "3017a3c2",
   "metadata": {},
   "source": [
    "## Regular Expression"
   ]
  },
  {
   "cell_type": "code",
   "execution_count": 18,
   "id": "9cd4201a",
   "metadata": {},
   "outputs": [
    {
     "name": "stdout",
     "output_type": "stream",
     "text": [
      "123 456\n"
     ]
    }
   ],
   "source": [
    "## regular expression\n",
    "import re\n",
    "\n",
    "pattern = r'\\d+'\n",
    "text = 'There are 123 apples and 456 oranges.'\n",
    "match = re.findall(pattern, text)\n",
    "print(*match)"
   ]
  }
 ],
 "metadata": {
  "kernelspec": {
   "display_name": "Python 3",
   "language": "python",
   "name": "python3"
  },
  "language_info": {
   "codemirror_mode": {
    "name": "ipython",
    "version": 3
   },
   "file_extension": ".py",
   "mimetype": "text/x-python",
   "name": "python",
   "nbconvert_exporter": "python",
   "pygments_lexer": "ipython3",
   "version": "3.12.0"
  }
 },
 "nbformat": 4,
 "nbformat_minor": 5
}
