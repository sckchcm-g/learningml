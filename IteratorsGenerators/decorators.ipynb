{
 "cells": [
  {
   "cell_type": "code",
   "execution_count": 20,
   "id": "40240280",
   "metadata": {},
   "outputs": [
    {
     "name": "stdout",
     "output_type": "stream",
     "text": [
      "Welcome to the Python script!\n"
     ]
    }
   ],
   "source": [
    "## function copy\n",
    "def welcome():\n",
    "    print(\"Welcome to the Python script!\")\n",
    "welcome()"
   ]
  },
  {
   "cell_type": "code",
   "execution_count": 21,
   "id": "d6fd9beb",
   "metadata": {},
   "outputs": [
    {
     "name": "stdout",
     "output_type": "stream",
     "text": [
      "Welcome to the Python script!\n",
      "None\n",
      "Welcome to the Python script!\n",
      "None\n"
     ]
    }
   ],
   "source": [
    "wel = welcome\n",
    "print(wel())\n",
    "del welcome\n",
    "print(wel())"
   ]
  },
  {
   "cell_type": "code",
   "execution_count": 29,
   "id": "e9cee88c",
   "metadata": {},
   "outputs": [],
   "source": [
    "## closures\n",
    "def main_welcome(msg):\n",
    "    # msg = \"Welcome to the closure!\"\n",
    "    def sub_welcome():\n",
    "        print(\"Welcome to the inner function!\")\n",
    "        print(\"Message from the inner function\")\n",
    "        print(msg)\n",
    "    return sub_welcome()\n"
   ]
  },
  {
   "cell_type": "code",
   "execution_count": 34,
   "id": "8eb43815",
   "metadata": {},
   "outputs": [
    {
     "name": "stdout",
     "output_type": "stream",
     "text": [
      "Welcome to the inner function!\n",
      "Message from the inner function\n",
      "wassup closure!\n"
     ]
    }
   ],
   "source": [
    "main_welcome(\"wassup closure!\")"
   ]
  },
  {
   "cell_type": "code",
   "execution_count": 39,
   "id": "4ea216ec",
   "metadata": {},
   "outputs": [],
   "source": [
    "def main_welcome(func):\n",
    "    # msg = \"Welcome to the closure!\"\n",
    "    def sub_welcome():\n",
    "        print(\"Welcome to the inner function!\")\n",
    "        print(\"Message from the inner function\")\n",
    "        func(\"heyyy\")\n",
    "    return sub_welcome()\n"
   ]
  },
  {
   "cell_type": "code",
   "execution_count": 41,
   "id": "528f2798",
   "metadata": {},
   "outputs": [
    {
     "name": "stdout",
     "output_type": "stream",
     "text": [
      "Welcome to the inner function!\n",
      "Message from the inner function\n",
      "heyyy\n"
     ]
    }
   ],
   "source": [
    "main_welcome(print)"
   ]
  },
  {
   "cell_type": "code",
   "execution_count": 49,
   "id": "2f45dd15",
   "metadata": {},
   "outputs": [],
   "source": [
    "def main_welcome(func, lst):\n",
    "\n",
    "    def sub_welcome():\n",
    "        print(\"Welcome to the inner function!\")\n",
    "        print(\"Message from the inner function\")\n",
    "        print(func(lst))\n",
    "    return sub_welcome()"
   ]
  },
  {
   "cell_type": "code",
   "execution_count": 52,
   "id": "915d3184",
   "metadata": {},
   "outputs": [
    {
     "name": "stdout",
     "output_type": "stream",
     "text": [
      "Welcome to the inner function!\n",
      "Message from the inner function\n",
      "5\n"
     ]
    }
   ],
   "source": [
    "main_welcome(len, [1, 2, 3, 4, 5])"
   ]
  },
  {
   "cell_type": "code",
   "execution_count": 68,
   "id": "f8a5c585",
   "metadata": {},
   "outputs": [],
   "source": [
    "## Decorator\n",
    "def main_welcome(func):\n",
    "\n",
    "    def sub_welcome():\n",
    "        print(\"Welcome to the inner function!\")\n",
    "        print(\"Message from the inner function\")\n",
    "        func()\n",
    "    return sub_welcome()"
   ]
  },
  {
   "cell_type": "code",
   "execution_count": 57,
   "id": "8107b2e2",
   "metadata": {},
   "outputs": [
    {
     "name": "stdout",
     "output_type": "stream",
     "text": [
      "Welcome to the damn course!\n"
     ]
    }
   ],
   "source": [
    "def course_introduction():\n",
    "    print(\"Welcome to the damn course!\")\n",
    "course_introduction()"
   ]
  },
  {
   "cell_type": "code",
   "execution_count": 72,
   "id": "5fd2e8b9",
   "metadata": {},
   "outputs": [
    {
     "name": "stdout",
     "output_type": "stream",
     "text": [
      "Welcome to the inner function!\n",
      "Message from the inner function\n",
      "Welcome to the damn course!\n"
     ]
    }
   ],
   "source": [
    "main_welcome(course_introduction)"
   ]
  },
  {
   "cell_type": "code",
   "execution_count": 76,
   "id": "4928e52b",
   "metadata": {},
   "outputs": [
    {
     "name": "stdout",
     "output_type": "stream",
     "text": [
      "Welcome to the inner function!\n",
      "Message from the inner function\n",
      "Welcome to the damn course!\n"
     ]
    }
   ],
   "source": [
    "@main_welcome\n",
    "def course_introduction():\n",
    "    print(\"Welcome to the damn course!\")"
   ]
  },
  {
   "cell_type": "code",
   "execution_count": 81,
   "id": "cd5ebbc0",
   "metadata": {},
   "outputs": [],
   "source": [
    "## Decorator\n",
    "def decorator(func):\n",
    "    def wrapper():\n",
    "        print(\"Before the function call\")\n",
    "        func()\n",
    "        print(\"After the function call\")\n",
    "    return wrapper"
   ]
  },
  {
   "cell_type": "code",
   "execution_count": 87,
   "id": "0c920922",
   "metadata": {},
   "outputs": [],
   "source": [
    "@decorator\n",
    "def say_hello():\n",
    "    print(\"Hello, World!\")"
   ]
  },
  {
   "cell_type": "code",
   "execution_count": 89,
   "id": "5bc52866",
   "metadata": {},
   "outputs": [
    {
     "name": "stdout",
     "output_type": "stream",
     "text": [
      "Before the function call\n",
      "Hello, World!\n",
      "After the function call\n"
     ]
    }
   ],
   "source": [
    "say_hello()"
   ]
  },
  {
   "cell_type": "code",
   "execution_count": null,
   "id": "f42289c1",
   "metadata": {},
   "outputs": [],
   "source": [
    "## Decorators with arguments\n",
    "def decorator_with_args(arg1, arg2):\n",
    "    def decorator(func):\n",
    "        def wrapper(*args, **kwargs):\n",
    "            print(f\"Decorator arguments: {arg1}, {arg2}\")\n",
    "            return func(*args, **kwargs)\n",
    "        return wrapper\n",
    "    return decorator"
   ]
  }
 ],
 "metadata": {
  "kernelspec": {
   "display_name": "Python 3",
   "language": "python",
   "name": "python3"
  },
  "language_info": {
   "codemirror_mode": {
    "name": "ipython",
    "version": 3
   },
   "file_extension": ".py",
   "mimetype": "text/x-python",
   "name": "python",
   "nbconvert_exporter": "python",
   "pygments_lexer": "ipython3",
   "version": "3.12.0"
  }
 },
 "nbformat": 4,
 "nbformat_minor": 5
}
