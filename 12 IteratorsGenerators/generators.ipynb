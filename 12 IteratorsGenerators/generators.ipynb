{
 "cells": [
  {
   "cell_type": "markdown",
   "id": "c3e59bd6",
   "metadata": {},
   "source": [
    "## Generators"
   ]
  },
  {
   "cell_type": "code",
   "execution_count": 15,
   "id": "82721142",
   "metadata": {},
   "outputs": [],
   "source": [
    "def square(n):\n",
    "    for i in range(3):\n",
    "        yield i**2"
   ]
  },
  {
   "cell_type": "code",
   "execution_count": 17,
   "id": "f7bc837d",
   "metadata": {},
   "outputs": [
    {
     "data": {
      "text/plain": [
       "<generator object square at 0x0000025ED2C605F0>"
      ]
     },
     "execution_count": 17,
     "metadata": {},
     "output_type": "execute_result"
    }
   ],
   "source": [
    "square(3)"
   ]
  },
  {
   "cell_type": "code",
   "execution_count": 20,
   "id": "ff00b9b7",
   "metadata": {},
   "outputs": [
    {
     "name": "stdout",
     "output_type": "stream",
     "text": [
      "0\n",
      "1\n",
      "4\n"
     ]
    }
   ],
   "source": [
    "for i in square(3):\n",
    "    print(i)"
   ]
  },
  {
   "cell_type": "code",
   "execution_count": 21,
   "id": "738e8ac0",
   "metadata": {},
   "outputs": [],
   "source": [
    "a = square(3)\n"
   ]
  },
  {
   "cell_type": "code",
   "execution_count": 26,
   "id": "9728a59d",
   "metadata": {},
   "outputs": [
    {
     "ename": "StopIteration",
     "evalue": "",
     "output_type": "error",
     "traceback": [
      "\u001b[31m---------------------------------------------------------------------------\u001b[39m",
      "\u001b[31mStopIteration\u001b[39m                             Traceback (most recent call last)",
      "\u001b[36mCell\u001b[39m\u001b[36m \u001b[39m\u001b[32mIn[26]\u001b[39m\u001b[32m, line 1\u001b[39m\n\u001b[32m----> \u001b[39m\u001b[32m1\u001b[39m \u001b[38;5;28;43mnext\u001b[39;49m\u001b[43m(\u001b[49m\u001b[43ma\u001b[49m\u001b[43m)\u001b[49m\n",
      "\u001b[31mStopIteration\u001b[39m: "
     ]
    }
   ],
   "source": [
    "next(a)"
   ]
  },
  {
   "cell_type": "code",
   "execution_count": 28,
   "id": "e94fa101",
   "metadata": {},
   "outputs": [],
   "source": [
    "def mygenerator():\n",
    "    yield 1\n",
    "    yield 2\n",
    "    yield 3"
   ]
  },
  {
   "cell_type": "code",
   "execution_count": 53,
   "id": "37961188",
   "metadata": {},
   "outputs": [],
   "source": [
    "mygen = mygenerator()"
   ]
  },
  {
   "cell_type": "code",
   "execution_count": 49,
   "id": "26211c82",
   "metadata": {},
   "outputs": [],
   "source": [
    "# next(mygen)"
   ]
  },
  {
   "cell_type": "code",
   "execution_count": 55,
   "id": "c644418e",
   "metadata": {},
   "outputs": [],
   "source": [
    "for val in mygen:\n",
    "    print(val)"
   ]
  },
  {
   "cell_type": "code",
   "execution_count": 59,
   "id": "81515544",
   "metadata": {},
   "outputs": [],
   "source": [
    "## practical example reading a large file\n",
    "def read_large_file(file_path):\n",
    "    with open(file_path, 'r') as file:\n",
    "        for line in file:\n",
    "            yield line.strip()"
   ]
  },
  {
   "cell_type": "code",
   "execution_count": 61,
   "id": "9abb89e1",
   "metadata": {},
   "outputs": [
    {
     "name": "stdout",
     "output_type": "stream",
     "text": [
      "US President Donald Trump has said his administration wants to accept a plane worth an estimated $400m (£303m) as a gift from Qatar, calling it \"a great gesture\" that he would be \"stupid\" to turn down. Trump defended his decision to accept a $400 million aircraft from Qatar to replace temporarily Air Force One, stating that it was given to the defence department and added that only a fool would not accept a free gift.\n",
      "\n",
      "Trump on Sunday confirmed that the US will receive a luxurious Boeing 747-8 jumbo jet from Qatar's royal family for free. In a post on Truth Social, Trump said, \"The Boeing 747 is being given to the United States Air Force/Department of Defense, NOT TO ME! It is a gift from a Nation, Qatar, that we have successfully defended for many years. It will be used by our Government as a temporary Air Force One, until such time as our new Boeings, which are very late on delivery, arrive.\"\n",
      "\n",
      "\" Why should our military, and therefore our taxpayers, be forced to pay hundreds of millions of Dollars when they can get it for FREE from a country that wants to reward us for a job well done. This big savings will be spent, instead, to MAKE AMERICA GREAT AGAIN! Only a FOOL would not accept this gift on behalf of our Country. Thank you for your attention to this matter!\" he added.\n",
      "\n",
      "\n",
      "They're giving us a gift,\" Trump told reporters at the White House on Monday, adding that he would be \"a stupid person\" if he did not accept it.\n",
      "\n",
      "ALSO READ: Unearthed video of Trump lambasting 'funders of terrorism' Qatar after accepting $400million pricey jet surfaces\n",
      "\n",
      "Trump defends Qatar deal\n",
      "Trump defended accepting a $400 million aircraft from Qatar to temporarily replace Air Force One, arguing that the aircraft is more “impressive” than the current presidential plane. “The plane that you are on right now is almost 40 years old,” Trump told Fox News host Sean Hannity, in an interview Monday as the president traveled to Saudi Arabia aboard Air Force One.\n",
      "\n",
      "“And when you land and you see Saudi Arabia and you see [the United Arab Emirates] and you can see Qatar and you see all these – and they have these brand new Boeing 747s, mostly, and you see ours next to it – this is like a totally different plane,” the president continued.\n",
      "\n",
      "“It’s much smaller. It’s much less impressive, as impressive as it is,” Trump said of Air Force One, a modified Boeing 747-200B aircraft that was introduced into service in 1990. “And you know, we’re the United States of America – I believe that we should have the most impressive plane.”\n",
      "\n",
      "Trump said he planned to use the luxurious aircraft as an interim presidential plane while Boeing completes the next-generation Air Force One fleet following years of frustrating delays and cost overruns. The 13-year-old plane, which would need to be modified to meet Air Force One standards, will potentially be transferred to Trump’s presidential library foundation when he leaves office, according to ABC News.\n",
      "\n",
      "ALSO READ: 'Should be embarrassed': Trump lashes out at 'fake news' reporter as he rages over question about $400m gifted jet\n",
      "\n",
      "“We would like to make a gift. You’ve done so many things. And we’d like to make the gift to the Defense Department,’ which is where it’s going,” Trump said of how the offer was presented to him. “And I said, ‘Well, that’s nice.’”\n",
      "\n",
      "The president said he doesn’t understand the criticism he’s getting over the diplomatic present.\n",
      "\n",
      "“Some people say, ‘Oh, you shouldn’t accept gifts for the country.’ My attitude is, why wouldn’t I accept a gift? We’re giving to everybody else, why wouldn’t I accept a gift?” Trump argued on “Hannity.” “Because it’s going to be a couple of years, I think, before the Boeings are finished.”\n",
      "\n",
      "ALSO READ: Trump might not be able to use gifted $400 million luxury Qatar jet for Air Force One\n",
      "\n",
      "Trump allies including Florida Sen. Rick Scott took issue with the extravagant gift. “I’m not flying on a Qatari plane,” Scott told The Hill. “They support Hamas. I don’t know how you make it safe.”\n",
      "\n",
      "Other Senate Republicans like Josh Hawley were concerned over the jet’s safety.\n",
      "\n",
      "“It would be better if Air Force One were a big, beautiful jet made in the United States of America,” said Hawley (R-Mo.). “That would be ideal.”\n",
      "\n",
      "Others worried whether the gift is even lawful under the Constitution’s emoluments clause, which bars US officials from accepting gifts from foreign states without congressional consent. “If Qatar gives a plane to the president of the United States, it seems to me that raises questions of whether the administration would be in compliance with the gift law,” Sen. Susan Collins (R-Maine) said.\n"
     ]
    }
   ],
   "source": [
    "file_path = 'largefile.txt'  # Replace with your file path\n",
    "for line in read_large_file(file_path):\n",
    "    print(line.strip())"
   ]
  }
 ],
 "metadata": {
  "kernelspec": {
   "display_name": "Python 3",
   "language": "python",
   "name": "python3"
  },
  "language_info": {
   "codemirror_mode": {
    "name": "ipython",
    "version": 3
   },
   "file_extension": ".py",
   "mimetype": "text/x-python",
   "name": "python",
   "nbconvert_exporter": "python",
   "pygments_lexer": "ipython3",
   "version": "3.12.0"
  }
 },
 "nbformat": 4,
 "nbformat_minor": 5
}
