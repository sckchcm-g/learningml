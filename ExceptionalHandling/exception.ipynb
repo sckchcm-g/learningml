{
 "cells": [
  {
   "cell_type": "markdown",
   "id": "82daf325",
   "metadata": {},
   "source": [
    "## Exception Handling\n"
   ]
  },
  {
   "cell_type": "code",
   "execution_count": 2,
   "id": "d19f566d",
   "metadata": {},
   "outputs": [
    {
     "name": "stdout",
     "output_type": "stream",
     "text": [
      "Caught a NameError: name 'b' is not defined\n"
     ]
    }
   ],
   "source": [
    "try:\n",
    "    a=b\n",
    "except NameError as e:\n",
    "    print(\"Caught a NameError:\", e)"
   ]
  },
  {
   "cell_type": "code",
   "execution_count": 6,
   "id": "d1908b90",
   "metadata": {},
   "outputs": [
    {
     "name": "stdout",
     "output_type": "stream",
     "text": [
      "Caught a ZeroDivisionError: division by zero\n"
     ]
    }
   ],
   "source": [
    "try:\n",
    "    var = 1/0\n",
    "except ZeroDivisionError as e:\n",
    "    print(\"Caught a ZeroDivisionError:\", e)"
   ]
  },
  {
   "cell_type": "code",
   "execution_count": 9,
   "id": "42229488",
   "metadata": {},
   "outputs": [
    {
     "name": "stdout",
     "output_type": "stream",
     "text": [
      "Caught an Exception: name 'b' is not defined\n"
     ]
    }
   ],
   "source": [
    "try:\n",
    "    var = 1/2\n",
    "    a=b\n",
    "except ZeroDivisionError as e:\n",
    "    print(\"Caught a ZeroDivisionError:\", e)\n",
    "except Exception as e:\n",
    "    print(\"Caught an Exception:\", e)"
   ]
  },
  {
   "cell_type": "code",
   "execution_count": 12,
   "id": "f797d9d3",
   "metadata": {},
   "outputs": [],
   "source": [
    "try:\n",
    "    num = int(input(\"Enter a number: \"))\n",
    "    result = 10 / num\n",
    "except ValueError as e:\n",
    "    print(\"Caught a ValueError:\", e)\n",
    "except ZeroDivisionError as e:\n",
    "    print(\"Caught a ZeroDivisionError:\", e)\n",
    "except Exception as e:\n",
    "    print(\"Caught an Exception:\", e)"
   ]
  },
  {
   "cell_type": "code",
   "execution_count": 15,
   "id": "f1c1b3ce",
   "metadata": {},
   "outputs": [
    {
     "name": "stdout",
     "output_type": "stream",
     "text": [
      "Result is: 0.43478260869565216\n"
     ]
    }
   ],
   "source": [
    "# try except else blocks\n",
    "try:\n",
    "    num = int(input(\"Enter a number: \"))\n",
    "    result = 10 / num\n",
    "except ValueError as e:\n",
    "    print(\"Caught a ValueError:\", e)\n",
    "except ZeroDivisionError as e:\n",
    "    print(\"Caught a ZeroDivisionError:\", e)\n",
    "except Exception as e:\n",
    "    print(\"Caught an Exception:\", e)\n",
    "else:\n",
    "    print(\"Result is:\", result)"
   ]
  },
  {
   "cell_type": "code",
   "execution_count": 18,
   "id": "c31228e5",
   "metadata": {},
   "outputs": [
    {
     "name": "stdout",
     "output_type": "stream",
     "text": [
      "Caught a ValueError: invalid literal for int() with base 10: '#'\n",
      "Execution completed.\n"
     ]
    }
   ],
   "source": [
    "## try except else finally blocks\n",
    "try:\n",
    "    num = int(input(\"Enter a number: \"))\n",
    "    result = 10 / num\n",
    "except ValueError as e:\n",
    "    print(\"Caught a ValueError:\", e)\n",
    "except ZeroDivisionError as e:\n",
    "    print(\"Caught a ZeroDivisionError:\", e)\n",
    "except Exception as e:\n",
    "    print(\"Caught an Exception:\", e)\n",
    "else:\n",
    "    print(\"Result is:\", result)\n",
    "finally:\n",
    "    print(\"Execution completed.\")"
   ]
  },
  {
   "cell_type": "code",
   "execution_count": 24,
   "id": "0bc74918",
   "metadata": {},
   "outputs": [
    {
     "name": "stdout",
     "output_type": "stream",
     "text": [
      "\n",
      "Hello there bud\n",
      "File closed successfully.\n"
     ]
    }
   ],
   "source": [
    "## file handling and exception handling\n",
    "try:\n",
    "    file=open(\"file.txt\", \"r\")\n",
    "    content = file.read()\n",
    "    # a = b\n",
    "    print(content)\n",
    "\n",
    "except FileNotFoundError as e:\n",
    "    print(\"Caught a FileNotFoundError:\", e)\n",
    "\n",
    "except Exception as e:\n",
    "    print(\"Caught an Exception:\", e)\n",
    "\n",
    "finally:\n",
    "    if 'file' in locals() and not file.closed:\n",
    "        file.close()\n",
    "        print(\"File closed successfully.\")"
   ]
  }
 ],
 "metadata": {
  "kernelspec": {
   "display_name": "Python 3",
   "language": "python",
   "name": "python3"
  },
  "language_info": {
   "codemirror_mode": {
    "name": "ipython",
    "version": 3
   },
   "file_extension": ".py",
   "mimetype": "text/x-python",
   "name": "python",
   "nbconvert_exporter": "python",
   "pygments_lexer": "ipython3",
   "version": "3.12.0"
  }
 },
 "nbformat": 4,
 "nbformat_minor": 5
}
