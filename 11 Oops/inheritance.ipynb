{
 "cells": [
  {
   "cell_type": "markdown",
   "id": "a109b0bb",
   "metadata": {},
   "source": [
    "## Inheritance in PY"
   ]
  },
  {
   "cell_type": "code",
   "execution_count": null,
   "id": "6ae5924e",
   "metadata": {},
   "outputs": [],
   "source": [
    "## Inheritance"
   ]
  }
 ],
 "metadata": {
  "kernelspec": {
   "display_name": "Python 3",
   "language": "python",
   "name": "python3"
  },
  "language_info": {
   "name": "python",
   "version": "3.12.0"
  }
 },
 "nbformat": 4,
 "nbformat_minor": 5
}
