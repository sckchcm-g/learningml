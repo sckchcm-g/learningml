{
 "cells": [
  {
   "cell_type": "markdown",
   "id": "a8b93bf1",
   "metadata": {},
   "source": [
    "## File Ops read and write files"
   ]
  },
  {
   "cell_type": "code",
   "execution_count": 7,
   "id": "6ae8c013",
   "metadata": {},
   "outputs": [
    {
     "name": "stdout",
     "output_type": "stream",
     "text": [
      "Hello, world!\n",
      "This is a test file.\n",
      "\n"
     ]
    }
   ],
   "source": [
    "### read a wholefile\n",
    "with open('example.txt', 'r') as file:\n",
    "    content = file.read()\n",
    "    print(content)\n"
   ]
  },
  {
   "cell_type": "code",
   "execution_count": 8,
   "id": "eb3bbd94",
   "metadata": {},
   "outputs": [
    {
     "name": "stdout",
     "output_type": "stream",
     "text": [
      "Hello, world!\n",
      "This is a test file.\n"
     ]
    }
   ],
   "source": [
    "## read a file line by line\n",
    "\n",
    "with open('example.txt', 'r') as file:\n",
    "    for line in file:\n",
    "        print(line.strip())"
   ]
  },
  {
   "cell_type": "code",
   "execution_count": 9,
   "id": "d2323ee5",
   "metadata": {},
   "outputs": [],
   "source": [
    "#write a file overwriting\n",
    "with open('example.txt', 'w') as file:\n",
    "    file.write(\"Hello, World!\\n\")\n",
    "    file.write(\"This is a new line.\\n\")\n"
   ]
  },
  {
   "cell_type": "code",
   "execution_count": 10,
   "id": "a9c86cc4",
   "metadata": {},
   "outputs": [],
   "source": [
    "## write a file without overwriting\n",
    "with open('example.txt', 'a') as file:\n",
    "    file.write(\"This line is appended.\\n\")\n",
    "    file.write(\"Another appended line.\\n\")"
   ]
  },
  {
   "cell_type": "code",
   "execution_count": 11,
   "id": "4eaadeb1",
   "metadata": {},
   "outputs": [],
   "source": [
    "## writing a list of lines to a file\n",
    "lines = [\"Line 1\\n\", \"Line 2\\n\", \"Line 3\\n\"]\n",
    "with open('example.txt', 'a') as file:\n",
    "    file.writelines(lines)"
   ]
  },
  {
   "cell_type": "markdown",
   "id": "eea97996",
   "metadata": {},
   "source": [
    "Binary files\n"
   ]
  },
  {
   "cell_type": "code",
   "execution_count": 12,
   "id": "d6c0b439",
   "metadata": {},
   "outputs": [],
   "source": [
    "## writing a file in binary mode\n",
    "data = b'\\x00\\x01\\x02\\x03\\x04\\x05'\n",
    "\n",
    "with open('example.bin', 'wb') as file:\n",
    "    file.write(data)"
   ]
  },
  {
   "cell_type": "code",
   "execution_count": 13,
   "id": "b3827015",
   "metadata": {},
   "outputs": [
    {
     "name": "stdout",
     "output_type": "stream",
     "text": [
      "b'\\x00\\x01\\x02\\x03\\x04\\x05'\n"
     ]
    }
   ],
   "source": [
    "## reading a binary file\n",
    "with open('example.bin', 'rb') as file:\n",
    "    data = file.read()\n",
    "    print(data)"
   ]
  },
  {
   "cell_type": "code",
   "execution_count": 14,
   "id": "71b20cf6",
   "metadata": {},
   "outputs": [],
   "source": [
    "## reading content from one file and writing to another\n",
    "\n",
    "with open('example.txt', 'r') as source_file:\n",
    "    content = source_file.read()\n",
    "with open('copy_example.txt', 'w') as dest_file:\n",
    "    dest_file.write(content)\n"
   ]
  },
  {
   "cell_type": "code",
   "execution_count": 15,
   "id": "6f83476f",
   "metadata": {},
   "outputs": [
    {
     "name": "stdout",
     "output_type": "stream",
     "text": [
      "Lines: 7, Words: 20, Characters: 101\n"
     ]
    }
   ],
   "source": [
    "## reda from a file and count the number of lines words and characters\n",
    "def count_text_file(file_path):\n",
    "    with open(file_path, 'r') as file:\n",
    "        lines = file.readlines()\n",
    "        num_lines = len(lines)\n",
    "        num_words = sum(len(line.split()) for line in lines)\n",
    "        num_chars = sum(len(line) for line in lines)\n",
    "    return num_lines, num_words, num_chars\n",
    "\n",
    "# Example usage\n",
    "file_path = 'example.txt'\n",
    "num_lines, num_words, num_chars = count_text_file(file_path)\n",
    "print(f\"Lines: {num_lines}, Words: {num_words}, Characters: {num_chars}\")"
   ]
  },
  {
   "cell_type": "code",
   "execution_count": 17,
   "id": "1fa20216",
   "metadata": {},
   "outputs": [
    {
     "name": "stdout",
     "output_type": "stream",
     "text": [
      "Hello, world!\n",
      "This is a test file.\n",
      "\n"
     ]
    }
   ],
   "source": [
    "## writing and then reading a file \n",
    "with open('example.txt', 'w+') as file:\n",
    "    file.write(\"Hello, world!\\n\")\n",
    "    file.write(\"This is a test file.\\n\")\n",
    "\n",
    "    file.seek(0)\n",
    "    content = file.read()\n",
    "    print(content)"
   ]
  },
  {
   "cell_type": "code",
   "execution_count": 20,
   "id": "0acc12c2",
   "metadata": {},
   "outputs": [
    {
     "name": "stdout",
     "output_type": "stream",
     "text": [
      "Directory 'package' created.\n"
     ]
    }
   ],
   "source": [
    "## create a new directory \n",
    "import os\n",
    "new_directory = 'package'\n",
    "os.mkdir(new_directory)\n",
    "print(f\"Directory '{new_directory}' created.\")"
   ]
  },
  {
   "cell_type": "code",
   "execution_count": 23,
   "id": "56d05405",
   "metadata": {},
   "outputs": [
    {
     "name": "stdout",
     "output_type": "stream",
     "text": [
      "Files and directories in the current directory:\n",
      "['copy_example.txt', 'example.bin', 'example.txt', 'fileops.ipynb', 'package']\n"
     ]
    }
   ],
   "source": [
    "## list all files and directories\n",
    "items = os.listdir('.')\n",
    "print(\"Files and directories in the current directory:\")\n",
    "print(items)\n",
    "# for item in items:\n",
    "#     print(f\" - {item}\")"
   ]
  },
  {
   "cell_type": "code",
   "execution_count": 26,
   "id": "dccab309",
   "metadata": {},
   "outputs": [
    {
     "name": "stdout",
     "output_type": "stream",
     "text": [
      "Full path: d:\\learning\\code\\FileHandling\\folder\\file.txt\n"
     ]
    }
   ],
   "source": [
    "## joining paths\n",
    "dir_name = \"folder\"\n",
    "file_name = \"file.txt\"\n",
    "full_path = os.path.join(os.getcwd(),dir_name, file_name)\n",
    "print(f\"Full path: {full_path}\")"
   ]
  },
  {
   "cell_type": "code",
   "execution_count": 28,
   "id": "e473e0bc",
   "metadata": {},
   "outputs": [
    {
     "name": "stdout",
     "output_type": "stream",
     "text": [
      "example1.txt does not exist.\n"
     ]
    }
   ],
   "source": [
    "path = \"example1.txt\"\n",
    "if os.path.exists(path):\n",
    "    print(f\"{path} exists.\")\n",
    "else:\n",
    "    print(f\"{path} does not exist.\")\n"
   ]
  },
  {
   "cell_type": "code",
   "execution_count": 29,
   "id": "0b442a7d",
   "metadata": {},
   "outputs": [
    {
     "name": "stdout",
     "output_type": "stream",
     "text": [
      "example1.txt is neither a file nor a directory.\n"
     ]
    }
   ],
   "source": [
    "## checking if a path is a file or directory\n",
    "if os.path.isfile(path):\n",
    "    print(f\"{path} is a file.\")\n",
    "elif os.path.isdir(path):\n",
    "    print(f\"{path} is a directory.\")\n",
    "else:\n",
    "    print(f\"{path} is neither a file nor a directory.\")"
   ]
  },
  {
   "cell_type": "code",
   "execution_count": 31,
   "id": "1aa474bd",
   "metadata": {},
   "outputs": [
    {
     "name": "stdout",
     "output_type": "stream",
     "text": [
      "Absolute path: d:\\learning\\code\\FileHandling\\folder\\file.txt\n"
     ]
    }
   ],
   "source": [
    "## getting the absolute path\n",
    "relative_path = \"folder/file.txt\"\n",
    "absolute_path = os.path.abspath(relative_path)\n",
    "print(f\"Absolute path: {absolute_path}\")\n"
   ]
  }
 ],
 "metadata": {
  "kernelspec": {
   "display_name": "Python 3",
   "language": "python",
   "name": "python3"
  },
  "language_info": {
   "codemirror_mode": {
    "name": "ipython",
    "version": 3
   },
   "file_extension": ".py",
   "mimetype": "text/x-python",
   "name": "python",
   "nbconvert_exporter": "python",
   "pygments_lexer": "ipython3",
   "version": "3.12.0"
  }
 },
 "nbformat": 4,
 "nbformat_minor": 5
}
