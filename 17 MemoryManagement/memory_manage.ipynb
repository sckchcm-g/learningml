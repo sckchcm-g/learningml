{
 "cells": [
  {
   "cell_type": "markdown",
   "id": "9ab98764",
   "metadata": {},
   "source": [
    "## Python Memory Management\n",
    "\n",
    "Memory management in Python involves a combination of automatic garbage collection, reference counting, and various internal optimizations to efficiently manage memory allocation and deallocation. Understanding these mechanisms can help developers write more efficient and robust applications.\n",
    "\n",
    "1. Key Concepts in Python Memory Management\n",
    "\n",
    "2. Memory Allocation and Deallocation\n",
    "\n",
    "3. Reference Counting\n",
    "\n",
    "4. Garbage Collection\n",
    "\n",
    "5. The gc Module\n",
    "\n",
    "6. Memory Management Best Practices"
   ]
  },
  {
   "cell_type": "markdown",
   "id": "24bc94d5",
   "metadata": {},
   "source": [
    "## Reference Counting\n",
    "\n",
    "Reference counting is the primary method Python uses to manage memory. Each object in Python maintains a count of references pointing to it. When the reference count drops to zero, the memory occupied by the object is deallocated."
   ]
  },
  {
   "cell_type": "code",
   "execution_count": 17,
   "id": "f396fa4a",
   "metadata": {},
   "outputs": [
    {
     "name": "stdout",
     "output_type": "stream",
     "text": [
      "2\n"
     ]
    }
   ],
   "source": [
    "import sys\n",
    "\n",
    "a=[]\n",
    "## (one reference from the variable a and one from getrefcount())\n",
    "print(sys.getrefcount(a))"
   ]
  },
  {
   "cell_type": "code",
   "execution_count": 18,
   "id": "31a8d5bf",
   "metadata": {},
   "outputs": [
    {
     "name": "stdout",
     "output_type": "stream",
     "text": [
      "3\n"
     ]
    }
   ],
   "source": [
    "b=a\n",
    "print(sys.getrefcount(b))"
   ]
  },
  {
   "cell_type": "code",
   "execution_count": 19,
   "id": "3b9439cf",
   "metadata": {},
   "outputs": [
    {
     "name": "stdout",
     "output_type": "stream",
     "text": [
      "2\n"
     ]
    }
   ],
   "source": [
    "del b\n",
    "print(sys.getrefcount(a))"
   ]
  },
  {
   "cell_type": "markdown",
   "id": "276c2009",
   "metadata": {},
   "source": [
    "### Garbage Collection\n",
    "\n",
    "Python includes a cyclic garbage collector to handle reference cycles. Reference cycles occur when objects reference each other, preventing their reference counts from reaching zero."
   ]
  },
  {
   "cell_type": "code",
   "execution_count": 20,
   "id": "650fb954",
   "metadata": {},
   "outputs": [],
   "source": [
    "import gc\n",
    "### enable garbage collection\n",
    "\n",
    "gc.enable()"
   ]
  },
  {
   "cell_type": "code",
   "execution_count": 21,
   "id": "3f7a942c",
   "metadata": {},
   "outputs": [],
   "source": [
    "gc.disable()"
   ]
  },
  {
   "cell_type": "code",
   "execution_count": 22,
   "id": "85b01844",
   "metadata": {},
   "outputs": [
    {
     "data": {
      "text/plain": [
       "0"
      ]
     },
     "execution_count": 22,
     "metadata": {},
     "output_type": "execute_result"
    }
   ],
   "source": [
    "gc.collect()"
   ]
  },
  {
   "cell_type": "code",
   "execution_count": 24,
   "id": "e48d08d8",
   "metadata": {},
   "outputs": [
    {
     "name": "stdout",
     "output_type": "stream",
     "text": [
      "[{'collections': 174, 'collected': 1813, 'uncollectable': 0}, {'collections': 15, 'collected': 136, 'uncollectable': 0}, {'collections': 6, 'collected': 108, 'uncollectable': 0}]\n"
     ]
    }
   ],
   "source": [
    "### Get garbage collection statistics\n",
    "print(gc.get_stats())"
   ]
  },
  {
   "cell_type": "code",
   "execution_count": 27,
   "id": "2196ea0d",
   "metadata": {},
   "outputs": [
    {
     "name": "stdout",
     "output_type": "stream",
     "text": [
      "[]\n"
     ]
    }
   ],
   "source": [
    "### get unreachable objects\n",
    "print(gc.garbage)"
   ]
  },
  {
   "cell_type": "markdown",
   "id": "f451967f",
   "metadata": {},
   "source": [
    "## Memory Management Best Practices\n",
    "\n",
    "1. Use Local Variables: Local variables have a shorter lifespan and are freed sooner than global variables.\n",
    "\n",
    "2. Avoid Circular References: Circular references can lead to memory leaks if not properly managed.\n",
    "\n",
    "3. Use Generators: Generators produce items one at a time and only keep one item in memory at a time, making them memory efficient.\n",
    "\n",
    "4. Explicitly Delete Objects: Use the del statement to delete variables and objects explicitly.\n",
    "\n",
    "5. Profile Memory Usage: Use memory profiling tools like tracemalloc and memory_profiler to identify memory leaks and optimize memory usage."
   ]
  },
  {
   "cell_type": "code",
   "execution_count": null,
   "id": "ec03a0ad",
   "metadata": {},
   "outputs": [
    {
     "name": "stdout",
     "output_type": "stream",
     "text": [
      "Creating obj1\n",
      "Creating obj2\n",
      "Deleting obj1\n",
      "Deleting obj2\n"
     ]
    },
    {
     "data": {
      "text/plain": [
       "9"
      ]
     },
     "execution_count": 34,
     "metadata": {},
     "output_type": "execute_result"
    }
   ],
   "source": [
    "## Handled circular reference\n",
    "import gc\n",
    "\n",
    "class MyObject:\n",
    "    def __init__(self, name):\n",
    "        self.name = name\n",
    "        print(f\"Creating {self.name}\")\n",
    "\n",
    "    def __del__(self):\n",
    "        print(f\"Deleting {self.name}\")\n",
    "\n",
    "## create circular reference\n",
    "obj1 = MyObject(\"obj1\")\n",
    "obj2 = MyObject(\"obj2\")\n",
    "obj1.ref = obj2\n",
    "obj2.ref = obj1\n",
    "\n",
    "del obj1\n",
    "del obj2\n",
    "\n",
    "## Manually trigger the garbage collector\n",
    "gc.collect()"
   ]
  },
  {
   "cell_type": "code",
   "execution_count": 35,
   "id": "953f35e6",
   "metadata": {},
   "outputs": [
    {
     "name": "stdout",
     "output_type": "stream",
     "text": [
      "Garbage objects: []\n"
     ]
    }
   ],
   "source": [
    "## print the current garbage \n",
    "print(\"Garbage objects:\", gc.garbage)"
   ]
  },
  {
   "cell_type": "code",
   "execution_count": 37,
   "id": "142e53b1",
   "metadata": {},
   "outputs": [
    {
     "name": "stdout",
     "output_type": "stream",
     "text": [
      "0\n",
      "1\n",
      "2\n",
      "3\n",
      "4\n",
      "5\n",
      "6\n",
      "7\n",
      "8\n",
      "9\n",
      "10\n",
      "11\n"
     ]
    }
   ],
   "source": [
    "## Generators for memory efficiency\n",
    "# Generators allow you to produce items one at a time and only when requested, which can save memory.\n",
    "def generate_numbers(n):\n",
    "    for i in range(n):\n",
    "        yield i\n",
    "\n",
    "# Example usage\n",
    "for num in generate_numbers(50000):\n",
    "    print(num)\n",
    "    if num>10:\n",
    "        break"
   ]
  },
  {
   "cell_type": "code",
   "execution_count": null,
   "id": "f80fcb74",
   "metadata": {},
   "outputs": [],
   "source": [
    "## Profiling memory usage with tracemalloc\n",
    "import tracemalloc\n",
    "\n",
    "def create_list():\n",
    "    return [i for i in range(10000)]\n",
    "\n",
    "def main():\n",
    "    tracemalloc.start()\n",
    "\n",
    "    create_list()\n",
    "\n",
    "    snapshot = tracemalloc.take_snapshot()\n",
    "    top_stats = snapshot.statistics('lineno')\n",
    "\n",
    "    print(\"[ Top 10 Memory Usage ]\")\n",
    "    for stat in top_stats[::]:\n",
    "        print(stat)\n"
   ]
  },
  {
   "cell_type": "code",
   "execution_count": 47,
   "id": "3df20f03",
   "metadata": {},
   "outputs": [
    {
     "name": "stdout",
     "output_type": "stream",
     "text": [
      "[ Top 10 Memory Usage ]\n",
      "C:\\Users\\aarna\\AppData\\Local\\Temp\\ipykernel_25976\\1236829147.py:7: size=721 KiB, count=5954, average=124 B\n",
      "d:\\learning\\code\\venv\\Lib\\selectors.py:314: size=288 KiB, count=6, average=48.0 KiB\n",
      "<frozen genericpath>:89: size=185 KiB, count=1602, average=119 B\n",
      "C:\\Users\\aarna\\AppData\\Roaming\\Python\\Python312\\site-packages\\pygments\\lexer.py:508: size=85.9 KiB, count=1100, average=80 B\n",
      "C:\\Users\\aarna\\AppData\\Roaming\\Python\\Python312\\site-packages\\pygments\\lexer.py:591: size=75.0 KiB, count=1270, average=60 B\n",
      "C:\\Users\\aarna\\AppData\\Roaming\\Python\\Python312\\site-packages\\pygments\\style.py:94: size=47.2 KiB, count=747, average=65 B\n",
      "C:\\Users\\aarna\\AppData\\Roaming\\Python\\Python312\\site-packages\\pygments\\formatters\\terminal256.py:44: size=36.1 KiB, count=748, average=49 B\n",
      "C:\\Users\\aarna\\AppData\\Roaming\\Python\\Python312\\site-packages\\pygments\\lexer.py:557: size=32.9 KiB, count=340, average=99 B\n",
      "C:\\Users\\aarna\\AppData\\Roaming\\Python\\Python312\\site-packages\\pygments\\token.py:44: size=26.9 KiB, count=408, average=68 B\n",
      "C:\\Users\\aarna\\AppData\\Roaming\\Python\\Python312\\site-packages\\pygments\\formatters\\terminal256.py:180: size=26.5 KiB, count=359, average=76 B\n"
     ]
    }
   ],
   "source": [
    "main()"
   ]
  }
 ],
 "metadata": {
  "kernelspec": {
   "display_name": "Python 3",
   "language": "python",
   "name": "python3"
  },
  "language_info": {
   "codemirror_mode": {
    "name": "ipython",
    "version": 3
   },
   "file_extension": ".py",
   "mimetype": "text/x-python",
   "name": "python",
   "nbconvert_exporter": "python",
   "pygments_lexer": "ipython3",
   "version": "3.12.0"
  }
 },
 "nbformat": 4,
 "nbformat_minor": 5
}
