{
 "cells": [
  {
   "cell_type": "markdown",
   "id": "ee394bfe",
   "metadata": {},
   "source": [
    "## Logging with multiple Loggers\n",
    "\n",
    "You can create multiple loggers for different parts of your application"
   ]
  },
  {
   "cell_type": "code",
   "execution_count": 2,
   "id": "5d60c4e3",
   "metadata": {},
   "outputs": [],
   "source": [
    "import logging\n",
    "## create a logger for module1\n",
    "logger1 = logging.getLogger('module1')\n",
    "logger1.setLevel(logging.DEBUG)\n",
    "\n",
    "# create a logger for module2\n",
    "logger2 = logging.getLogger('module2')\n",
    "logger2.setLevel(logging.WARNING)\n",
    "\n",
    "# configure logging settings\n",
    "logging.basicConfig(\n",
    "    level=logging.DEBUG,\n",
    "    format='%(asctime)s - %(name)s - %(levelname)s - %(message)s',\n",
    "    datefmt='%Y-%m-%d %H:%M:%S'\n",
    ")"
   ]
  },
  {
   "cell_type": "code",
   "execution_count": 5,
   "id": "a8bfc2b3",
   "metadata": {},
   "outputs": [
    {
     "name": "stderr",
     "output_type": "stream",
     "text": [
      "2025-05-30 12:56:01 - module1 - DEBUG - This is a debug message from module1\n",
      "2025-05-30 12:56:01 - module2 - WARNING - This is a warning message from module2\n",
      "2025-05-30 12:56:01 - module2 - ERROR - This is an error message from module2\n",
      "2025-05-30 12:56:01 - module2 - WARNING - This is a warning message from module2\n",
      "2025-05-30 12:56:01 - module2 - ERROR - This is an error message from module2\n",
      "2025-05-30 12:56:01 - module1 - INFO - This is an info message from module1\n"
     ]
    }
   ],
   "source": [
    "## log different msgs with different loggers\n",
    "logger1.debug('This is a debug message from module1')\n",
    "logger2.warning('This is a warning message from module2')\n",
    "logger2.error('This is an error message from module2')\n",
    "logger1.info('This is an info message from module1')"
   ]
  }
 ],
 "metadata": {
  "kernelspec": {
   "display_name": "Python 3",
   "language": "python",
   "name": "python3"
  },
  "language_info": {
   "codemirror_mode": {
    "name": "ipython",
    "version": 3
   },
   "file_extension": ".py",
   "mimetype": "text/x-python",
   "name": "python",
   "nbconvert_exporter": "python",
   "pygments_lexer": "ipython3",
   "version": "3.12.0"
  }
 },
 "nbformat": 4,
 "nbformat_minor": 5
}
