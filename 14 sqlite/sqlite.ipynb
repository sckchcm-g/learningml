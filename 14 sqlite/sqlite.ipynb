{
 "cells": [
  {
   "cell_type": "markdown",
   "id": "ba5ad194",
   "metadata": {},
   "source": [
    "## SQL and SQLite\n",
    "\n",
    "SQL (Structured Query Language) is a standard language for managing and manipulating relational databases. SQLite is a self-contained, serverless, and zero-configuration database engine that is widely used for embedded database systems. In this lesson, we will cover the basics of SQL and SQLite, including creating databases, tables, and performing various SQL operations."
   ]
  },
  {
   "cell_type": "code",
   "execution_count": 22,
   "id": "15b66d4a",
   "metadata": {},
   "outputs": [],
   "source": [
    "import sqlite3"
   ]
  },
  {
   "cell_type": "code",
   "execution_count": 23,
   "id": "5066cc9b",
   "metadata": {},
   "outputs": [
    {
     "data": {
      "text/plain": [
       "<sqlite3.Connection at 0x2650e993010>"
      ]
     },
     "execution_count": 23,
     "metadata": {},
     "output_type": "execute_result"
    }
   ],
   "source": [
    "## Connect to a SQLite Database\n",
    "connection = sqlite3.connect('example.db')\n",
    "connection"
   ]
  },
  {
   "cell_type": "code",
   "execution_count": 24,
   "id": "8769dac6",
   "metadata": {},
   "outputs": [],
   "source": [
    "cursor = connection.cursor()"
   ]
  },
  {
   "cell_type": "code",
   "execution_count": 25,
   "id": "b708c60a",
   "metadata": {},
   "outputs": [],
   "source": [
    "## Create a Table\n",
    "cursor.execute('''\n",
    "Create Table If Not Exists employees(\n",
    "               id Integer Primary Key,\n",
    "               name Text Not Null,\n",
    "               age Integer Not Null,\n",
    "               department Text Not Null\n",
    "               )\n",
    "''')\n",
    "\n",
    "connection.commit()"
   ]
  },
  {
   "cell_type": "code",
   "execution_count": 26,
   "id": "e6bab576",
   "metadata": {},
   "outputs": [
    {
     "data": {
      "text/plain": [
       "<sqlite3.Cursor at 0x2650ebc02c0>"
      ]
     },
     "execution_count": 26,
     "metadata": {},
     "output_type": "execute_result"
    }
   ],
   "source": [
    "cursor.execute('''\n",
    "Select * From employees\n",
    "''')"
   ]
  },
  {
   "cell_type": "code",
   "execution_count": 27,
   "id": "749c96ab",
   "metadata": {},
   "outputs": [],
   "source": [
    "## Insert the data in sqlite3\n",
    "cursor.execute('''\n",
    "Insert Into employees (name, age, department)\n",
    "Values ('John Doe', 30, 'HR')\n",
    "''')\n",
    "\n",
    "cursor.execute('''\n",
    "Insert Into employees (name, age, department)\n",
    "Values ('Jane Smith', 25, 'Finance')\n",
    "''')\n",
    "\n",
    "cursor.execute('''\n",
    "Insert Into employees (name, age, department)\n",
    "Values ('Jane Smith', 25, 'Finance')\n",
    "''')\n",
    "\n",
    "connection.commit()"
   ]
  },
  {
   "cell_type": "code",
   "execution_count": 28,
   "id": "d66c5fa9",
   "metadata": {},
   "outputs": [
    {
     "name": "stdout",
     "output_type": "stream",
     "text": [
      "(2, 'Jane Smith', 25, 'Finance')\n",
      "(3, 'Jane Smith', 25, 'Finance')\n",
      "(5, 'Jane Smith', 25, 'Finance')\n",
      "(6, 'Jane Smith', 25, 'Finance')\n",
      "(8, 'Jane Smith', 25, 'Finance')\n",
      "(9, 'Jane Smith', 25, 'Finance')\n",
      "(10, 'John Doe', 30, 'HR')\n",
      "(11, 'Jane Smith', 25, 'Finance')\n",
      "(12, 'Jane Smith', 25, 'Finance')\n"
     ]
    }
   ],
   "source": [
    "## query the data from sqlite3\n",
    "cursor.execute('''\n",
    "Select * From employees\n",
    "''')\n",
    "rows = cursor.fetchall()\n",
    "\n",
    "## print the queried data\n",
    "for row in rows:\n",
    "    print(row)"
   ]
  },
  {
   "cell_type": "code",
   "execution_count": 29,
   "id": "0600cdd1",
   "metadata": {},
   "outputs": [
    {
     "data": {
      "text/plain": [
       "<sqlite3.Cursor at 0x2650ebc02c0>"
      ]
     },
     "execution_count": 29,
     "metadata": {},
     "output_type": "execute_result"
    }
   ],
   "source": [
    "## update the data in the table\n",
    "cursor.execute('''\n",
    "Update employees\n",
    "Set age = 31\n",
    "Where name = 'John Doe'\n",
    "''')"
   ]
  },
  {
   "cell_type": "code",
   "execution_count": 30,
   "id": "98d0ab3d",
   "metadata": {},
   "outputs": [],
   "source": [
    "## Delete the data in a table\n",
    "\n",
    "cursor.execute('''\n",
    "Delete From employees\n",
    "Where name = 'John Doe'\n",
    "''')\n",
    "connection.commit()"
   ]
  },
  {
   "cell_type": "code",
   "execution_count": 31,
   "id": "3e858248",
   "metadata": {},
   "outputs": [],
   "source": [
    "## working with a sales data\n",
    "connection = sqlite3.connect('sales.db')\n",
    "cursor = connection.cursor()\n",
    "\n",
    "## Create a Sales Table\n",
    "cursor.execute('''\n",
    "Create Table If Not Exists sales(\n",
    "               id Integer Primary Key,\n",
    "               product_name Text Not Null,\n",
    "               quantity Integer Not Null,\n",
    "               price Real Not Null\n",
    "               )\n",
    "''')\n",
    "\n",
    "connection.commit()\n",
    "## Insert data into the sales table\n",
    "cursor.executemany('''\n",
    "Insert Into sales (product_name, quantity, price)\n",
    "Values (?, ?, ?)\n",
    "''', [\n",
    "    ('Laptop', 10, 999.99),\n",
    "    ('Smartphone', 25, 499.99),\n",
    "    ('Tablet', 15, 299.99)\n",
    "])\n",
    "connection.commit()\n"
   ]
  },
  {
   "cell_type": "code",
   "execution_count": 32,
   "id": "75d27ed7",
   "metadata": {},
   "outputs": [
    {
     "name": "stdout",
     "output_type": "stream",
     "text": [
      "(1, 'Laptop', 10, 999.99)\n",
      "(2, 'Smartphone', 25, 499.99)\n",
      "(3, 'Tablet', 15, 299.99)\n"
     ]
    }
   ],
   "source": [
    "# query the sales data\n",
    "cursor.execute('''\n",
    "Select * From sales\n",
    "''')\n",
    "rows = cursor.fetchall()\n",
    "\n",
    "## Print the queried data\n",
    "for row in rows:\n",
    "    print(row)\n"
   ]
  },
  {
   "cell_type": "code",
   "execution_count": null,
   "id": "152cdf64",
   "metadata": {},
   "outputs": [],
   "source": []
  },
  {
   "cell_type": "code",
   "execution_count": null,
   "id": "3c3f5ddf",
   "metadata": {},
   "outputs": [],
   "source": [
    "## close the connection\n",
    "cursor.close()\n",
    "connection.close()"
   ]
  }
 ],
 "metadata": {
  "kernelspec": {
   "display_name": "Python 3",
   "language": "python",
   "name": "python3"
  },
  "language_info": {
   "codemirror_mode": {
    "name": "ipython",
    "version": 3
   },
   "file_extension": ".py",
   "mimetype": "text/x-python",
   "name": "python",
   "nbconvert_exporter": "python",
   "pygments_lexer": "ipython3",
   "version": "3.12.0"
  }
 },
 "nbformat": 4,
 "nbformat_minor": 5
}
